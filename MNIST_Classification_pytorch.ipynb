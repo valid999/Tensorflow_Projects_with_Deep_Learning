{
  "nbformat": 4,
  "nbformat_minor": 0,
  "metadata": {
    "colab": {
      "provenance": [],
      "authorship_tag": "ABX9TyPXmmJYa/Sc2AXP8J/vISeB",
      "include_colab_link": true
    },
    "kernelspec": {
      "name": "python3",
      "display_name": "Python 3"
    },
    "language_info": {
      "name": "python"
    }
  },
  "cells": [
    {
      "cell_type": "markdown",
      "metadata": {
        "id": "view-in-github",
        "colab_type": "text"
      },
      "source": [
        "<a href=\"https://colab.research.google.com/github/valid999/Tensorflow_Projects_with_Deep_Learning/blob/main/MNIST_Classification_pytorch.ipynb\" target=\"_parent\"><img src=\"https://colab.research.google.com/assets/colab-badge.svg\" alt=\"Open In Colab\"/></a>"
      ]
    },
    {
      "cell_type": "code",
      "execution_count": 145,
      "metadata": {
        "colab": {
          "base_uri": "https://localhost:8080/"
        },
        "id": "_qkZHsMGlvRW",
        "outputId": "21088ede-8225-46ec-d6c7-b224c83ca19b"
      },
      "outputs": [
        {
          "output_type": "stream",
          "name": "stdout",
          "text": [
            "torch: 2.0.1+cu118\n"
          ]
        }
      ],
      "source": [
        "import torch\n",
        "import torchvision\n",
        "\n",
        "print('torch:' , torch.__version__)"
      ]
    },
    {
      "cell_type": "code",
      "source": [
        "# LOading the dataset\n",
        "from torchvision.datasets import MNIST"
      ],
      "metadata": {
        "id": "sod2PAhQmHfK"
      },
      "execution_count": 146,
      "outputs": []
    },
    {
      "cell_type": "code",
      "source": [
        "data_train = MNIST(root = \"./\" , download = True , train = True)\n",
        "data_test = MNIST(root = \"./\" , download = True , train = False)"
      ],
      "metadata": {
        "id": "MLXys8eNFNG1"
      },
      "execution_count": 147,
      "outputs": []
    },
    {
      "cell_type": "code",
      "source": [
        "data_train[10][0]"
      ],
      "metadata": {
        "colab": {
          "base_uri": "https://localhost:8080/",
          "height": 45
        },
        "id": "H8P2uPe7FmVT",
        "outputId": "62cb378b-a2b1-425f-aed8-9d279953a647"
      },
      "execution_count": 148,
      "outputs": [
        {
          "output_type": "execute_result",
          "data": {
            "text/plain": [
              "<PIL.Image.Image image mode=L size=28x28>"
            ],
            "image/png": "[encoded data removed]"
          },
          "metadata": {},
          "execution_count": 148
        }
      ]
    },
    {
      "cell_type": "code",
      "source": [
        "data_train[10][1]"
      ],
      "metadata": {
        "colab": {
          "base_uri": "https://localhost:8080/"
        },
        "id": "H1jVqXtDFsj2",
        "outputId": "51f0f417-581a-466b-929f-c811c3c846b3"
      },
      "execution_count": 149,
      "outputs": [
        {
          "output_type": "execute_result",
          "data": {
            "text/plain": [
              "3"
            ]
          },
          "metadata": {},
          "execution_count": 149
        }
      ]
    },
    {
      "cell_type": "code",
      "source": [
        "print(data_train[0][0].size) # The size we need for the neural after flatten"
      ],
      "metadata": {
        "colab": {
          "base_uri": "https://localhost:8080/"
        },
        "id": "fDa43xraF-oK",
        "outputId": "82caa367-db4a-4ed8-abdc-e2a209c6be4f"
      },
      "execution_count": 150,
      "outputs": [
        {
          "output_type": "stream",
          "name": "stdout",
          "text": [
            "(28, 28)\n"
          ]
        }
      ]
    },
    {
      "cell_type": "code",
      "source": [
        "from torchvision.transforms import Lambda , ToTensor , Compose\n",
        "transform = Compose([\n",
        "    ToTensor(),\n",
        "    Lambda(lambda image : image / 255),\n",
        "    Lambda(lambda image: image.view(28*28))\n",
        "])\n",
        "\n",
        "data_train = MNIST(root = \"./\" , download = True , train = True , transform = transform)\n",
        "data_test = MNIST(root = \"./\" , download = True , train = False  , transform = transform)"
      ],
      "metadata": {
        "id": "FueYy3GpGFsm"
      },
      "execution_count": 151,
      "outputs": []
    },
    {
      "cell_type": "code",
      "source": [
        "# data_train[0][0]"
      ],
      "metadata": {
        "id": "eBzqQwg9HCFN"
      },
      "execution_count": 152,
      "outputs": []
    },
    {
      "cell_type": "code",
      "source": [
        "from ast import Yield\n",
        "# Build the model\n",
        "from torch import nn , optim\n",
        "\n",
        "class Model(nn.Module):\n",
        "  def __init__(self , sizes):\n",
        "    super().__init__()\n",
        "    self.hidden_layer_1 = nn.Linear(784 , sizes[0]) # 784 , 128\n",
        "    self.act1 = nn.Sigmoid()\n",
        "    self.hidden_layer_2 = nn.Linear(sizes[0] , sizes[1]) # 128 , 64\n",
        "    self.act2 = nn.Sigmoid()\n",
        "    self.output_layer = nn.Linear(sizes[1] , sizes[2]) # 64 , 10\n",
        "    self.act3 = nn.Softmax(dim = 1)\n",
        "\n",
        "    self.loss = nn.CrossEntropyLoss()\n",
        "    self.optimizer = optim.Adam(self.parameters())\n",
        "\n",
        "\n",
        "  def forward(self , inputs):\n",
        "    x = self.hidden_layer_1(inputs)\n",
        "    x = self.act1(x)\n",
        "    x = self.hidden_layer_2(x)\n",
        "    x = self.act2(x)\n",
        "    x = self.output_layer(x)\n",
        "    x = self.act3(x)\n",
        "    return x\n",
        "\n",
        "  def fit(self , X , Y):\n",
        "    self.optimizer.zero_grad()\n",
        "    y_pred = self.forward(X)\n",
        "    loss = self.loss(y_pred , Y)\n",
        "    loss.backward()\n",
        "    self.optimizer.step() # updating the weights\n",
        "    return loss.item()\n",
        "\n",
        "\n",
        "  def predict(self , X):\n",
        "    with torch.no_grad():\n",
        "      return torch.argmax(self.forward(X) , axis = 1)\n",
        "\n",
        "\n",
        "  def evaluate(self , test_dataloader):\n",
        "    correct = 0\n",
        "    for X , Y in test_dataloader:\n",
        "      y_pred = self.predict(X)\n",
        "      correct += (Y == y_pred).sum() # batch\n",
        "    acc = correct / (len(test_dataloader) * 50)\n",
        "    print(f'Accuracy: {acc}')\n",
        "\n",
        "\n"
      ],
      "metadata": {
        "id": "qZXci61QHFyi"
      },
      "execution_count": 175,
      "outputs": []
    },
    {
      "cell_type": "code",
      "source": [
        "model = Model([128 , 64 , 10])"
      ],
      "metadata": {
        "id": "j0kh5gDQKI3u"
      },
      "execution_count": 176,
      "outputs": []
    },
    {
      "cell_type": "code",
      "source": [
        "from torch.utils.data import DataLoader\n",
        "BATCH = 50\n",
        "train_dataloader = DataLoader(data_train , batch_size = BATCH , shuffle = True)\n",
        "test_dataloader = DataLoader(data_test , batch_size = BATCH , shuffle = True)"
      ],
      "metadata": {
        "id": "0MiVQWTpKqtq"
      },
      "execution_count": 177,
      "outputs": []
    },
    {
      "cell_type": "code",
      "source": [
        "from tqdm import tqdm\n",
        "epochs = 20\n",
        "for i in range(epochs):\n",
        "  total_loss = 0\n",
        "  for X , Y in tqdm(train_dataloader , desc = f\"fitting epoch {i}\"):\n",
        "    loss = model.fit(X , Y)\n",
        "    total_loss += loss\n",
        "  avg_loss = total_loss/len(train_dataloader)\n",
        "  print(f'Epoch {i}: {avg_loss:.4f}')"
      ],
      "metadata": {
        "colab": {
          "base_uri": "https://localhost:8080/"
        },
        "id": "RAUl1fwlL4be",
        "outputId": "8ca61e30-5ef5-4107-9198-82686688c18d"
      },
      "execution_count": 178,
      "outputs": [
        {
          "output_type": "stream",
          "name": "stderr",
          "text": [
            "fitting epoch 0: 100%|██████████| 1200/1200 [00:13<00:00, 88.06it/s]\n"
          ]
        },
        {
          "output_type": "stream",
          "name": "stdout",
          "text": [
            "Epoch 0: 2.2721\n"
          ]
        },
        {
          "output_type": "stream",
          "name": "stderr",
          "text": [
            "fitting epoch 1: 100%|██████████| 1200/1200 [00:13<00:00, 86.94it/s]\n"
          ]
        },
        {
          "output_type": "stream",
          "name": "stdout",
          "text": [
            "Epoch 1: 2.1072\n"
          ]
        },
        {
          "output_type": "stream",
          "name": "stderr",
          "text": [
            "fitting epoch 2: 100%|██████████| 1200/1200 [00:14<00:00, 85.33it/s]\n"
          ]
        },
        {
          "output_type": "stream",
          "name": "stdout",
          "text": [
            "Epoch 2: 2.0000\n"
          ]
        },
        {
          "output_type": "stream",
          "name": "stderr",
          "text": [
            "fitting epoch 3: 100%|██████████| 1200/1200 [00:13<00:00, 85.77it/s]\n"
          ]
        },
        {
          "output_type": "stream",
          "name": "stdout",
          "text": [
            "Epoch 3: 1.9411\n"
          ]
        },
        {
          "output_type": "stream",
          "name": "stderr",
          "text": [
            "fitting epoch 4: 100%|██████████| 1200/1200 [00:13<00:00, 88.71it/s]\n"
          ]
        },
        {
          "output_type": "stream",
          "name": "stdout",
          "text": [
            "Epoch 4: 1.8858\n"
          ]
        },
        {
          "output_type": "stream",
          "name": "stderr",
          "text": [
            "fitting epoch 5: 100%|██████████| 1200/1200 [00:13<00:00, 87.12it/s]\n"
          ]
        },
        {
          "output_type": "stream",
          "name": "stdout",
          "text": [
            "Epoch 5: 1.8416\n"
          ]
        },
        {
          "output_type": "stream",
          "name": "stderr",
          "text": [
            "fitting epoch 6: 100%|██████████| 1200/1200 [00:13<00:00, 87.62it/s]\n"
          ]
        },
        {
          "output_type": "stream",
          "name": "stdout",
          "text": [
            "Epoch 6: 1.8163\n"
          ]
        },
        {
          "output_type": "stream",
          "name": "stderr",
          "text": [
            "fitting epoch 7: 100%|██████████| 1200/1200 [00:13<00:00, 86.99it/s]\n"
          ]
        },
        {
          "output_type": "stream",
          "name": "stdout",
          "text": [
            "Epoch 7: 1.7985\n"
          ]
        },
        {
          "output_type": "stream",
          "name": "stderr",
          "text": [
            "fitting epoch 8: 100%|██████████| 1200/1200 [00:13<00:00, 87.51it/s]\n"
          ]
        },
        {
          "output_type": "stream",
          "name": "stdout",
          "text": [
            "Epoch 8: 1.7837\n"
          ]
        },
        {
          "output_type": "stream",
          "name": "stderr",
          "text": [
            "fitting epoch 9: 100%|██████████| 1200/1200 [00:13<00:00, 87.51it/s]\n"
          ]
        },
        {
          "output_type": "stream",
          "name": "stdout",
          "text": [
            "Epoch 9: 1.7708\n"
          ]
        },
        {
          "output_type": "stream",
          "name": "stderr",
          "text": [
            "fitting epoch 10: 100%|██████████| 1200/1200 [00:13<00:00, 87.98it/s]\n"
          ]
        },
        {
          "output_type": "stream",
          "name": "stdout",
          "text": [
            "Epoch 10: 1.7467\n"
          ]
        },
        {
          "output_type": "stream",
          "name": "stderr",
          "text": [
            "fitting epoch 11: 100%|██████████| 1200/1200 [00:13<00:00, 88.60it/s]\n"
          ]
        },
        {
          "output_type": "stream",
          "name": "stdout",
          "text": [
            "Epoch 11: 1.7240\n"
          ]
        },
        {
          "output_type": "stream",
          "name": "stderr",
          "text": [
            "fitting epoch 12: 100%|██████████| 1200/1200 [00:13<00:00, 87.66it/s]\n"
          ]
        },
        {
          "output_type": "stream",
          "name": "stdout",
          "text": [
            "Epoch 12: 1.7099\n"
          ]
        },
        {
          "output_type": "stream",
          "name": "stderr",
          "text": [
            "fitting epoch 13: 100%|██████████| 1200/1200 [00:13<00:00, 86.15it/s]\n"
          ]
        },
        {
          "output_type": "stream",
          "name": "stdout",
          "text": [
            "Epoch 13: 1.7003\n"
          ]
        },
        {
          "output_type": "stream",
          "name": "stderr",
          "text": [
            "fitting epoch 14: 100%|██████████| 1200/1200 [00:14<00:00, 84.32it/s]\n"
          ]
        },
        {
          "output_type": "stream",
          "name": "stdout",
          "text": [
            "Epoch 14: 1.6936\n"
          ]
        },
        {
          "output_type": "stream",
          "name": "stderr",
          "text": [
            "fitting epoch 15: 100%|██████████| 1200/1200 [00:13<00:00, 87.24it/s]\n"
          ]
        },
        {
          "output_type": "stream",
          "name": "stdout",
          "text": [
            "Epoch 15: 1.6882\n"
          ]
        },
        {
          "output_type": "stream",
          "name": "stderr",
          "text": [
            "fitting epoch 16: 100%|██████████| 1200/1200 [00:13<00:00, 87.92it/s]\n"
          ]
        },
        {
          "output_type": "stream",
          "name": "stdout",
          "text": [
            "Epoch 16: 1.6833\n"
          ]
        },
        {
          "output_type": "stream",
          "name": "stderr",
          "text": [
            "fitting epoch 17: 100%|██████████| 1200/1200 [00:13<00:00, 87.28it/s]\n"
          ]
        },
        {
          "output_type": "stream",
          "name": "stdout",
          "text": [
            "Epoch 17: 1.6799\n"
          ]
        },
        {
          "output_type": "stream",
          "name": "stderr",
          "text": [
            "fitting epoch 18: 100%|██████████| 1200/1200 [00:13<00:00, 87.41it/s]\n"
          ]
        },
        {
          "output_type": "stream",
          "name": "stdout",
          "text": [
            "Epoch 18: 1.6761\n"
          ]
        },
        {
          "output_type": "stream",
          "name": "stderr",
          "text": [
            "fitting epoch 19: 100%|██████████| 1200/1200 [00:13<00:00, 87.58it/s]"
          ]
        },
        {
          "output_type": "stream",
          "name": "stdout",
          "text": [
            "Epoch 19: 1.6735\n"
          ]
        },
        {
          "output_type": "stream",
          "name": "stderr",
          "text": [
            "\n"
          ]
        }
      ]
    },
    {
      "cell_type": "code",
      "source": [
        "model.evaluate(test_dataloader)"
      ],
      "metadata": {
        "id": "08cwnwEpMp0r",
        "colab": {
          "base_uri": "https://localhost:8080/"
        },
        "outputId": "ebc17c74-ce67-4fa0-dcc6-cf102fefc276"
      },
      "execution_count": 179,
      "outputs": [
        {
          "output_type": "stream",
          "name": "stdout",
          "text": [
            "Accuracy: 0.7928000092506409\n"
          ]
        }
      ]
    },
    {
      "cell_type": "code",
      "source": [
        "path = './mnist_model.pth'\n",
        "torch.save(model.state_dict() , path) # only weight"
      ],
      "metadata": {
        "id": "L0ZrNvgRNE_l"
      },
      "execution_count": 159,
      "outputs": []
    },
    {
      "cell_type": "code",
      "source": [
        "model_2 = Model([128 , 64 , 10])\n",
        "model_2.load_state_dict(torch.load(path))"
      ],
      "metadata": {
        "id": "uqILh574NRZ5",
        "colab": {
          "base_uri": "https://localhost:8080/"
        },
        "outputId": "edbe1a9f-c407-47fe-b195-86dfb103e61a"
      },
      "execution_count": 160,
      "outputs": [
        {
          "output_type": "execute_result",
          "data": {
            "text/plain": [
              "<All keys matched successfully>"
            ]
          },
          "metadata": {},
          "execution_count": 160
        }
      ]
    },
    {
      "cell_type": "code",
      "source": [
        "model_2.evaluate(test_dataloader)"
      ],
      "metadata": {
        "id": "A6X-vK29NaLc",
        "colab": {
          "base_uri": "https://localhost:8080/"
        },
        "outputId": "327b9ed9-93ec-436f-9e88-5879d9a18be6"
      },
      "execution_count": 180,
      "outputs": [
        {
          "output_type": "stream",
          "name": "stdout",
          "text": [
            "Accuracy: 0.8601999878883362\n"
          ]
        }
      ]
    },
    {
      "cell_type": "code",
      "source": [],
      "metadata": {
        "id": "WgGtP-ywmMzh"
      },
      "execution_count": null,
      "outputs": []
    }
  ]
}